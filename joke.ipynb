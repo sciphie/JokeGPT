{
 "cells": [
  {
   "cell_type": "code",
   "execution_count": 1,
   "metadata": {},
   "outputs": [],
   "source": [
    "import pandas as pd\n",
    "import numpy as np\n",
    "\n",
    "df = pd.read_pickle('joke_prompt_generation')\n",
    "df2 = pd.read_pickle('joke_prompt_generation_2')\n"
   ]
  },
  {
   "cell_type": "code",
   "execution_count": 2,
   "metadata": {},
   "outputs": [
    {
     "name": "stdout",
     "output_type": "stream",
     "text": [
      "(40, 2)\n",
      "(1002, 2)\n",
      "341\n"
     ]
    }
   ],
   "source": [
    "\n",
    "print(df.shape)\n",
    "print(df2.shape)\n",
    "print(df2.shape[0] - 661)\n",
    "# + 74\n",
    "#661"
   ]
  },
  {
   "cell_type": "code",
   "execution_count": 3,
   "metadata": {},
   "outputs": [
    {
     "name": "stdout",
     "output_type": "stream",
     "text": [
      "0: 100\n",
      "1: 104\n",
      "2: 99\n",
      "3: 102\n",
      "4: 98\n",
      "5: 104\n",
      "6: 100\n",
      "7: 102\n",
      "8: 100\n"
     ]
    }
   ],
   "source": [
    "prompts = df2.prompt.tolist() \n",
    "for i in range(9): \n",
    "    print(F\"{i}: {prompts.count(i)}\")\n",
    "    "
   ]
  },
  {
   "cell_type": "code",
   "execution_count": 4,
   "metadata": {},
   "outputs": [
    {
     "name": "stdout",
     "output_type": "stream",
     "text": [
      "(1002, 2)\n",
      "192\n",
      "118\n"
     ]
    }
   ],
   "source": [
    "\n",
    "df2 = pd.read_pickle('joke_prompt_generation_2')\n",
    "\n",
    "print(df2.shape)\n",
    "#df2 =df2.drop(df2.index[[0]])\n",
    "# print(df2[df2.index[[0]]])\n",
    "#df2.set_index(range(796), append=True)\n",
    "print(df2.shape[0]-810) #74\n",
    "print(df2.shape[0]-884)\n"
   ]
  },
  {
   "cell_type": "code",
   "execution_count": 6,
   "metadata": {},
   "outputs": [],
   "source": [
    "# no errors included \n",
    "res = df2.response.tolist()\n",
    "for elem in res:\n",
    "    elem = elem['message']\n",
    "    if \"Oops\" in elem:\n",
    "        print(elem)"
   ]
  },
  {
   "cell_type": "code",
   "execution_count": 87,
   "metadata": {},
   "outputs": [
    {
     "data": {
      "text/html": [
       "<div>\n",
       "<style scoped>\n",
       "    .dataframe tbody tr th:only-of-type {\n",
       "        vertical-align: middle;\n",
       "    }\n",
       "\n",
       "    .dataframe tbody tr th {\n",
       "        vertical-align: top;\n",
       "    }\n",
       "\n",
       "    .dataframe thead th {\n",
       "        text-align: right;\n",
       "    }\n",
       "</style>\n",
       "<table border=\"1\" class=\"dataframe\">\n",
       "  <thead>\n",
       "    <tr style=\"text-align: right;\">\n",
       "      <th></th>\n",
       "      <th>prompt</th>\n",
       "      <th>response</th>\n",
       "    </tr>\n",
       "  </thead>\n",
       "  <tbody>\n",
       "    <tr>\n",
       "      <th>0</th>\n",
       "      <td>0</td>\n",
       "      <td>{'message': 'Hello! How can I help you today?\n",
       "...</td>\n",
       "    </tr>\n",
       "    <tr>\n",
       "      <th>1</th>\n",
       "      <td>1</td>\n",
       "      <td>{'message': 'Why did the tomato turn red?\n",
       "\n",
       "Bec...</td>\n",
       "    </tr>\n",
       "    <tr>\n",
       "      <th>2</th>\n",
       "      <td>2</td>\n",
       "      <td>{'message': 'Why did the chicken cross the pla...</td>\n",
       "    </tr>\n",
       "    <tr>\n",
       "      <th>3</th>\n",
       "      <td>3</td>\n",
       "      <td>{'message': 'Sure, here's one:\n",
       "Why was the mat...</td>\n",
       "    </tr>\n",
       "    <tr>\n",
       "      <th>4</th>\n",
       "      <td>4</td>\n",
       "      <td>{'message': 'Why did the cookie go to the doct...</td>\n",
       "    </tr>\n",
       "    <tr>\n",
       "      <th>...</th>\n",
       "      <td>...</td>\n",
       "      <td>...</td>\n",
       "    </tr>\n",
       "    <tr>\n",
       "      <th>0</th>\n",
       "      <td>6</td>\n",
       "      <td>{'message': 'Here you go:\n",
       "Why was the math boo...</td>\n",
       "    </tr>\n",
       "    <tr>\n",
       "      <th>0</th>\n",
       "      <td>7</td>\n",
       "      <td>{'message': 'Sure thing! How about this one:\n",
       "W...</td>\n",
       "    </tr>\n",
       "    <tr>\n",
       "      <th>0</th>\n",
       "      <td>8</td>\n",
       "      <td>{'message': 'Alright, here's one for you:\n",
       "Why ...</td>\n",
       "    </tr>\n",
       "    <tr>\n",
       "      <th>0</th>\n",
       "      <td>9</td>\n",
       "      <td>{'message': 'Of course! Here's a good one:\n",
       "Why...</td>\n",
       "    </tr>\n",
       "    <tr>\n",
       "      <th>0</th>\n",
       "      <td>0</td>\n",
       "      <td>{'message': 'Here's a classic one:\n",
       "Why did the...</td>\n",
       "    </tr>\n",
       "  </tbody>\n",
       "</table>\n",
       "<p>940 rows × 2 columns</p>\n",
       "</div>"
      ],
      "text/plain": [
       "    prompt                                           response\n",
       "0        0  {'message': 'Hello! How can I help you today?\n",
       "...\n",
       "1        1  {'message': 'Why did the tomato turn red?\n",
       "\n",
       "Bec...\n",
       "2        2  {'message': 'Why did the chicken cross the pla...\n",
       "3        3  {'message': 'Sure, here's one:\n",
       "Why was the mat...\n",
       "4        4  {'message': 'Why did the cookie go to the doct...\n",
       "..     ...                                                ...\n",
       "0        6  {'message': 'Here you go:\n",
       "Why was the math boo...\n",
       "0        7  {'message': 'Sure thing! How about this one:\n",
       "W...\n",
       "0        8  {'message': 'Alright, here's one for you:\n",
       "Why ...\n",
       "0        9  {'message': 'Of course! Here's a good one:\n",
       "Why...\n",
       "0        0  {'message': 'Here's a classic one:\n",
       "Why did the...\n",
       "\n",
       "[940 rows x 2 columns]"
      ]
     },
     "execution_count": 87,
     "metadata": {},
     "output_type": "execute_result"
    }
   ],
   "source": [
    "df2"
   ]
  },
  {
   "cell_type": "code",
   "execution_count": null,
   "metadata": {},
   "outputs": [],
   "source": []
  }
 ],
 "metadata": {
  "kernelspec": {
   "display_name": "chatgpt",
   "language": "python",
   "name": "chatgpt"
  },
  "orig_nbformat": 4,
  "vscode": {
   "interpreter": {
    "hash": "878aeba862ccc0387ff4a3cacb118ac77450a00f57134b3032b5607deb2b5277"
   }
  }
 },
 "nbformat": 4,
 "nbformat_minor": 2
}
