{
 "cells": [
  {
   "cell_type": "code",
   "execution_count": 2,
   "metadata": {},
   "outputs": [],
   "source": [
    "import pandas as pd"
   ]
  },
  {
   "cell_type": "code",
   "execution_count": 3,
   "metadata": {},
   "outputs": [],
   "source": [
    "df = pd.read_pickle('joke_prompt_generation')\n"
   ]
  },
  {
   "cell_type": "code",
   "execution_count": 62,
   "metadata": {},
   "outputs": [],
   "source": [
    "df2 = pd.read_pickle('joke_prompt_generation_2')\n"
   ]
  },
  {
   "cell_type": "code",
   "execution_count": 63,
   "metadata": {},
   "outputs": [
    {
     "name": "stdout",
     "output_type": "stream",
     "text": [
      "(40, 2)\n",
      "(797, 2)\n",
      "136\n"
     ]
    }
   ],
   "source": [
    "\n",
    "print(df.shape)\n",
    "print(df2.shape)\n",
    "print(df2.shape[0] - 661)\n",
    "# + 74\n",
    "#661"
   ]
  },
  {
   "cell_type": "code",
   "execution_count": 103,
   "metadata": {},
   "outputs": [
    {
     "name": "stdout",
     "output_type": "stream",
     "text": [
      "0: 101\n",
      "1: 99\n",
      "2: 96\n",
      "3: 97\n",
      "4: 97\n",
      "5: 99\n",
      "6: 99\n",
      "7: 94\n",
      "8: 99\n"
     ]
    }
   ],
   "source": [
    "prompts = df2.prompt.tolist() \n",
    "for i in range(9): \n",
    "    print(F\"{i}: {prompts.count(i)}\")\n",
    "    "
   ]
  },
  {
   "cell_type": "code",
   "execution_count": 125,
   "metadata": {},
   "outputs": [
    {
     "name": "stdout",
     "output_type": "stream",
     "text": [
      "(1002, 2)\n",
      "192\n",
      "118\n"
     ]
    }
   ],
   "source": [
    "import numpy as np\n",
    "\n",
    "df2 = pd.read_pickle('joke_prompt_generation_2')\n",
    "\n",
    "print(df2.shape)\n",
    "#df2 =df2.drop(df2.index[[0]])\n",
    "# print(df2[df2.index[[0]]])\n",
    "#df2.set_index(range(796), append=True)\n",
    "print(df2.shape[0]-810) #74\n",
    "print(df2.shape[0]-884)\n"
   ]
  },
  {
   "cell_type": "code",
   "execution_count": 124,
   "metadata": {},
   "outputs": [
    {
     "data": {
      "text/html": [
       "<div>\n",
       "<style scoped>\n",
       "    .dataframe tbody tr th:only-of-type {\n",
       "        vertical-align: middle;\n",
       "    }\n",
       "\n",
       "    .dataframe tbody tr th {\n",
       "        vertical-align: top;\n",
       "    }\n",
       "\n",
       "    .dataframe thead th {\n",
       "        text-align: right;\n",
       "    }\n",
       "</style>\n",
       "<table border=\"1\" class=\"dataframe\">\n",
       "  <thead>\n",
       "    <tr style=\"text-align: right;\">\n",
       "      <th></th>\n",
       "      <th>prompt</th>\n",
       "      <th>response</th>\n",
       "    </tr>\n",
       "  </thead>\n",
       "  <tbody>\n",
       "    <tr>\n",
       "      <th>0</th>\n",
       "      <td>1</td>\n",
       "      <td>{'message': 'Why did the tomato turn red?\n",
       "\n",
       "Bec...</td>\n",
       "    </tr>\n",
       "    <tr>\n",
       "      <th>1</th>\n",
       "      <td>2</td>\n",
       "      <td>{'message': 'Why did the chicken cross the pla...</td>\n",
       "    </tr>\n",
       "    <tr>\n",
       "      <th>2</th>\n",
       "      <td>3</td>\n",
       "      <td>{'message': 'Sure, here's one:\n",
       "Why was the mat...</td>\n",
       "    </tr>\n",
       "    <tr>\n",
       "      <th>3</th>\n",
       "      <td>4</td>\n",
       "      <td>{'message': 'Why did the cookie go to the doct...</td>\n",
       "    </tr>\n",
       "    <tr>\n",
       "      <th>4</th>\n",
       "      <td>5</td>\n",
       "      <td>{'message': 'Why don't scientists trust atoms?...</td>\n",
       "    </tr>\n",
       "    <tr>\n",
       "      <th>...</th>\n",
       "      <td>...</td>\n",
       "      <td>...</td>\n",
       "    </tr>\n",
       "    <tr>\n",
       "      <th>966</th>\n",
       "      <td>6</td>\n",
       "      <td>{'message': 'Why did the bicycle fall over?\n",
       "\n",
       "B...</td>\n",
       "    </tr>\n",
       "    <tr>\n",
       "      <th>967</th>\n",
       "      <td>4</td>\n",
       "      <td>{'message': 'Why did the hipster burn his tong...</td>\n",
       "    </tr>\n",
       "    <tr>\n",
       "      <th>968</th>\n",
       "      <td>4</td>\n",
       "      <td>{'message': 'Why was the math book sad?\n",
       "\n",
       "Becau...</td>\n",
       "    </tr>\n",
       "    <tr>\n",
       "      <th>969</th>\n",
       "      <td>3</td>\n",
       "      <td>{'message': 'Yes! Here's one:\n",
       "\n",
       "Why did the tom...</td>\n",
       "    </tr>\n",
       "    <tr>\n",
       "      <th>970</th>\n",
       "      <td>1</td>\n",
       "      <td>{'message': 'Here you go!\n",
       "\n",
       "Why did the scarecr...</td>\n",
       "    </tr>\n",
       "  </tbody>\n",
       "</table>\n",
       "<p>971 rows × 2 columns</p>\n",
       "</div>"
      ],
      "text/plain": [
       "     prompt                                           response\n",
       "0         1  {'message': 'Why did the tomato turn red?\n",
       "\n",
       "Bec...\n",
       "1         2  {'message': 'Why did the chicken cross the pla...\n",
       "2         3  {'message': 'Sure, here's one:\n",
       "Why was the mat...\n",
       "3         4  {'message': 'Why did the cookie go to the doct...\n",
       "4         5  {'message': 'Why don't scientists trust atoms?...\n",
       "..      ...                                                ...\n",
       "966       6  {'message': 'Why did the bicycle fall over?\n",
       "\n",
       "B...\n",
       "967       4  {'message': 'Why did the hipster burn his tong...\n",
       "968       4  {'message': 'Why was the math book sad?\n",
       "\n",
       "Becau...\n",
       "969       3  {'message': 'Yes! Here's one:\n",
       "\n",
       "Why did the tom...\n",
       "970       1  {'message': 'Here you go!\n",
       "\n",
       "Why did the scarecr...\n",
       "\n",
       "[971 rows x 2 columns]"
      ]
     },
     "execution_count": 124,
     "metadata": {},
     "output_type": "execute_result"
    }
   ],
   "source": [
    "df2"
   ]
  },
  {
   "cell_type": "code",
   "execution_count": 96,
   "metadata": {},
   "outputs": [
    {
     "data": {
      "text/plain": [
       "prompt                                                      0\n",
       "response    {'message': 'Hello! How can I help you today?\n",
       "...\n",
       "Name: 0, dtype: object"
      ]
     },
     "execution_count": 96,
     "metadata": {},
     "output_type": "execute_result"
    }
   ],
   "source": [
    "df2.iloc[0]"
   ]
  },
  {
   "cell_type": "code",
   "execution_count": 92,
   "metadata": {},
   "outputs": [
    {
     "data": {
      "text/plain": [
       "3"
      ]
     },
     "execution_count": 92,
     "metadata": {},
     "output_type": "execute_result"
    }
   ],
   "source": [
    "from numpy import random\n",
    "random.choice(5)"
   ]
  },
  {
   "cell_type": "code",
   "execution_count": 86,
   "metadata": {},
   "outputs": [],
   "source": [
    "res = df2.response.tolist()\n",
    "for elem in res:\n",
    "    elem = elem['message']\n",
    "    if \"Oops\" in elem:\n",
    "        print(elem)"
   ]
  },
  {
   "cell_type": "code",
   "execution_count": 119,
   "metadata": {},
   "outputs": [],
   "source": [
    "#df2 = df2.reset_index()\n",
    "df2 = df2.drop([\"level_0\", \"index\"], axis=1)"
   ]
  },
  {
   "cell_type": "code",
   "execution_count": 110,
   "metadata": {},
   "outputs": [],
   "source": [
    "df2 = df2.drop([0])"
   ]
  },
  {
   "cell_type": "code",
   "execution_count": 116,
   "metadata": {},
   "outputs": [
    {
     "data": {
      "text/plain": [
       "Index(['level_0', 'index', 'prompt', 'response'], dtype='object')"
      ]
     },
     "execution_count": 116,
     "metadata": {},
     "output_type": "execute_result"
    }
   ],
   "source": [
    "df2.columns"
   ]
  },
  {
   "cell_type": "code",
   "execution_count": 121,
   "metadata": {},
   "outputs": [],
   "source": [
    "#df2.to_pickle(('joke_prompt_generation_2'))"
   ]
  },
  {
   "cell_type": "code",
   "execution_count": 129,
   "metadata": {},
   "outputs": [],
   "source": [
    "import pandas as pd \n",
    "\n",
    "path = 'joke_explanation'\n",
    "try:\n",
    "    df = pd.read_pickle(path)\n",
    "except:\n",
    "    # create dataframe and \n",
    "    df = pd.DataFrame({\"prompt\": [], \"response\": []})\n",
    "    df.to_pickle(path)\n",
    "    print(df.shape)"
   ]
  },
  {
   "cell_type": "code",
   "execution_count": null,
   "metadata": {},
   "outputs": [],
   "source": []
  }
 ],
 "metadata": {
  "kernelspec": {
   "display_name": "chatgpt",
   "language": "python",
   "name": "python3"
  },
  "language_info": {
   "codemirror_mode": {
    "name": "ipython",
    "version": 3
   },
   "file_extension": ".py",
   "mimetype": "text/x-python",
   "name": "python",
   "nbconvert_exporter": "python",
   "pygments_lexer": "ipython3",
   "version": "3.8.16"
  },
  "orig_nbformat": 4,
  "vscode": {
   "interpreter": {
    "hash": "878aeba862ccc0387ff4a3cacb118ac77450a00f57134b3032b5607deb2b5277"
   }
  }
 },
 "nbformat": 4,
 "nbformat_minor": 2
}
