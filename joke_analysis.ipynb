{
 "cells": [
  {
   "cell_type": "code",
   "execution_count": 1,
   "metadata": {},
   "outputs": [],
   "source": [
    "import pandas as pd\n",
    "#df = pd.read_pickle('joke_prompt_generation')\n",
    "df2 = pd.read_pickle('joke_prompt_generation_2')"
   ]
  },
  {
   "cell_type": "code",
   "execution_count": 2,
   "metadata": {},
   "outputs": [
    {
     "name": "stdout",
     "output_type": "stream",
     "text": [
      "0: 101\n",
      "1: 99\n",
      "2: 96\n",
      "3: 97\n",
      "4: 97\n",
      "5: 99\n",
      "6: 99\n",
      "7: 94\n",
      "8: 99\n"
     ]
    }
   ],
   "source": [
    "prompts = df2.prompt.tolist() \n",
    "for i in range(9): \n",
    "    print(F\"{i}: {prompts.count(i)}\")\n",
    "    "
   ]
  },
  {
   "cell_type": "code",
   "execution_count": 4,
   "metadata": {},
   "outputs": [
    {
     "data": {
      "text/html": [
       "<div>\n",
       "<style scoped>\n",
       "    .dataframe tbody tr th:only-of-type {\n",
       "        vertical-align: middle;\n",
       "    }\n",
       "\n",
       "    .dataframe tbody tr th {\n",
       "        vertical-align: top;\n",
       "    }\n",
       "\n",
       "    .dataframe thead th {\n",
       "        text-align: right;\n",
       "    }\n",
       "</style>\n",
       "<table border=\"1\" class=\"dataframe\">\n",
       "  <thead>\n",
       "    <tr style=\"text-align: right;\">\n",
       "      <th></th>\n",
       "      <th>prompt</th>\n",
       "      <th>response</th>\n",
       "    </tr>\n",
       "  </thead>\n",
       "  <tbody>\n",
       "    <tr>\n",
       "      <th>0</th>\n",
       "      <td>0</td>\n",
       "      <td>{'message': 'Hello! How can I help you today?\n",
       "...</td>\n",
       "    </tr>\n",
       "    <tr>\n",
       "      <th>1</th>\n",
       "      <td>1</td>\n",
       "      <td>{'message': 'Why did the tomato turn red?\n",
       "\n",
       "Bec...</td>\n",
       "    </tr>\n",
       "    <tr>\n",
       "      <th>2</th>\n",
       "      <td>2</td>\n",
       "      <td>{'message': 'Why did the chicken cross the pla...</td>\n",
       "    </tr>\n",
       "    <tr>\n",
       "      <th>3</th>\n",
       "      <td>3</td>\n",
       "      <td>{'message': 'Sure, here's one:\n",
       "Why was the mat...</td>\n",
       "    </tr>\n",
       "    <tr>\n",
       "      <th>4</th>\n",
       "      <td>4</td>\n",
       "      <td>{'message': 'Why did the cookie go to the doct...</td>\n",
       "    </tr>\n",
       "    <tr>\n",
       "      <th>...</th>\n",
       "      <td>...</td>\n",
       "      <td>...</td>\n",
       "    </tr>\n",
       "    <tr>\n",
       "      <th>0</th>\n",
       "      <td>6</td>\n",
       "      <td>{'message': 'Why did the bicycle fall over?\n",
       "\n",
       "B...</td>\n",
       "    </tr>\n",
       "    <tr>\n",
       "      <th>0</th>\n",
       "      <td>4</td>\n",
       "      <td>{'message': 'Why did the hipster burn his tong...</td>\n",
       "    </tr>\n",
       "    <tr>\n",
       "      <th>0</th>\n",
       "      <td>4</td>\n",
       "      <td>{'message': 'Why was the math book sad?\n",
       "\n",
       "Becau...</td>\n",
       "    </tr>\n",
       "    <tr>\n",
       "      <th>0</th>\n",
       "      <td>3</td>\n",
       "      <td>{'message': 'Yes! Here's one:\n",
       "\n",
       "Why did the tom...</td>\n",
       "    </tr>\n",
       "    <tr>\n",
       "      <th>0</th>\n",
       "      <td>1</td>\n",
       "      <td>{'message': 'Here you go!\n",
       "\n",
       "Why did the scarecr...</td>\n",
       "    </tr>\n",
       "  </tbody>\n",
       "</table>\n",
       "<p>972 rows × 2 columns</p>\n",
       "</div>"
      ],
      "text/plain": [
       "    prompt                                           response\n",
       "0        0  {'message': 'Hello! How can I help you today?\n",
       "...\n",
       "1        1  {'message': 'Why did the tomato turn red?\n",
       "\n",
       "Bec...\n",
       "2        2  {'message': 'Why did the chicken cross the pla...\n",
       "3        3  {'message': 'Sure, here's one:\n",
       "Why was the mat...\n",
       "4        4  {'message': 'Why did the cookie go to the doct...\n",
       "..     ...                                                ...\n",
       "0        6  {'message': 'Why did the bicycle fall over?\n",
       "\n",
       "B...\n",
       "0        4  {'message': 'Why did the hipster burn his tong...\n",
       "0        4  {'message': 'Why was the math book sad?\n",
       "\n",
       "Becau...\n",
       "0        3  {'message': 'Yes! Here's one:\n",
       "\n",
       "Why did the tom...\n",
       "0        1  {'message': 'Here you go!\n",
       "\n",
       "Why did the scarecr...\n",
       "\n",
       "[972 rows x 2 columns]"
      ]
     },
     "execution_count": 4,
     "metadata": {},
     "output_type": "execute_result"
    }
   ],
   "source": [
    "df2"
   ]
  },
  {
   "cell_type": "code",
   "execution_count": 21,
   "metadata": {},
   "outputs": [],
   "source": [
    "joke_list = [x['message'] for x in df2.response.tolist()]\n",
    "assert(all([type(elem) == str for elem in joke_list]))\n"
   ]
  },
  {
   "cell_type": "code",
   "execution_count": 57,
   "metadata": {},
   "outputs": [
    {
     "name": "stdout",
     "output_type": "stream",
     "text": [
      "972 669\n",
      "59 47\n"
     ]
    },
    {
     "name": "stderr",
     "output_type": "stream",
     "text": [
      "<>:66: SyntaxWarning: assertion is always true, perhaps remove parentheses?\n",
      "<>:66: SyntaxWarning: assertion is always true, perhaps remove parentheses?\n",
      "C:\\Users\\jent_so\\AppData\\Local\\Temp\\ipykernel_13740\\3482409455.py:66: SyntaxWarning: assertion is always true, perhaps remove parentheses?\n",
      "  assert(all([is_in(elem) for elem in jokes]), 'something wrong')\n"
     ]
    }
   ],
   "source": [
    "jokes = [\n",
    "    'What do you call a pile of cats? A meowtain!\\n\\n',\n",
    "    \"Why did the banana go to the doctor? Because it wasn't peeling well!\\n\\n\",\n",
    "    'Why did the bicycle fall over? Because it was two-tired!\\n\\n',\n",
    "    'Why did the chicken cross the playground?\\nTo get to the other slide.\\n\\n',\n",
    "    'Why did the chicken go to the seance? To talk to the other side.\\n\\n',\n",
    "    'Why did the cookie go to the doctor? Because it was feeling crumbly!\\n\\n',\n",
    "    'Why did the cookie go to the gym? To get a-cookie-dized\\n\\n',\n",
    "    'Why did the cookie go to the gym? To get a-cookie-dized!\\n\\n',\n",
    "    'Why did the frog call his insurance company? He had a jump in his car.\\n\\n',\n",
    "    'Why did the scarecrow win an award?\\nBecause he was outstanding in his field.\\n\\n',\n",
    "    'Why did the tomato turn red?\\n\\nBecause it saw the salad dressing!\\n\\n',\n",
    "    'Why did the tomato turn red? Because it saw the salad dressing!\\n\\n',\n",
    "    \"Why don't oysters give to charity? They're shellfish.\\n\\n\",\n",
    "    \"Why don't scientists trust atoms?\\nBecause they make up everything.\\n\\n\",\n",
    "    \"Why don't scientists trust atoms? Because they make up everything!\\n\\n\",\n",
    "    'Why was the computer cold?\\nIt left its Windows open.\\n\\n',\n",
    "    'Why was the math book sad?\\nBecause it had too many problems.\\n\\n',\n",
    "    'Why was the math book sad? Because it had too many problems.\\n\\n',\n",
    "    'Why did the computer go to the doctor? Because it had a byte!\\n\\n',\n",
    "    'Why was the belt sent to jail? Because it held up a pair of pants!\\n\\n',\n",
    "    'Why did the scarecrow win an award? Because he was outstanding in his field.\\n\\n',\n",
    "    \"Why did the orange stop rolling down the hill? Because it ran out of juice.\\n\\n\"\n",
    "    'Why did the robot go on a diet? Because it was getting a little rusty.\\n\\n',\n",
    "    \"Why don't seagulls fly over the bay? Because then they'd be bagels!\\n\\n\",\n",
    "    'Why did the cookie go to the hospital? Because it was feeling crumbly!\\n\\n',\n",
    "    'Why did the golfer bring two pairs of pants? In case he got a hole in one.\\n\\n',\n",
    "    'Why was the computer cold? Because it left its Windows open!\\n\\n',\n",
    "    'Why did the chicken go to the séance? To talk to the other side.\\n\\n',\n",
    "    \"Why don't seagulls fly over the bay? Because then they'd be bagels!\\n\\n\",\n",
    "    'Why did the cookie go to the hospital? Because it was feeling crumbly!\\n\\n',\n",
    "    'Why did the golfer bring two pairs of pants? In case he got a hole in one.\\n\\n',\n",
    "    'Why was the computer cold? Because it left its Windows open!\\n\\n',\n",
    "    \"Why did the banana go out with the prune? Because it couldn't get a date!\\n\\n\",\n",
    "    'Why did the chicken go to the party? To dance the fowl!\\n\\n',\n",
    "    'Why did the cookie go to the hospital? Because it was feeling crumbly!\\n\\n',\n",
    "    'Why did the golfer bring two pairs of pants? In case he got a hole in one.\\n\\n',\n",
    "    'Why was the computer cold? Because it left its Windows open!\\n\\n',\n",
    "    \"Why did the banana go out with the prune? Because it couldn't get a date!\\n\\n\",\n",
    "    'What do you call an alligator in a vest? An investigator.\\n\\n',\n",
    "    \"Why don't scientists trust atoms? Because they make up everything.\\n\\n\",\n",
    "    'Why did the chicken cross the playground? To get to the other slide.\\n\\n',\n",
    "    \"Why did the orange stop rolling down the hill? Because it ran out of juice.\\n\\n\",\n",
    "    'Why did the robot go on a diet? Because it was getting a little rusty.\\n\\n',\n",
    "    'Why did the cookie go to the doctor? Because it was feeling crumbly.\\n\\n',\n",
    "    \"Why did the banana go to the doctor? Because it wasn't peeling well.\\n\\n\",\n",
    "    'Why was the computer cold? Because it left its Windows open.\\n\\n',\n",
    "    'Why did the scarecrow win an award? Because he was outstanding in his field!\\n\\n',\n",
    "    'Why don’t oysters give to charity? They’re shellfish.\\n\\n',\n",
    "    'Why did the cow go to outer space? To see the moooon.\\n\\n',\n",
    "    \"Why don't skeletons fight each other? They don't have the guts!\\n\\n\",\n",
    "    'What do you call a bear with no teeth? A gummy bear.\\n\\n',\n",
    "    \"Why don't oysters give to charity? Because they're shellfish.\\n\\n\",\n",
    "    'Why did the cookie go to the doctor? Because it was feeling crumbly.\\n\\n',\n",
    "    'Why was the computer cold? Because it left its Windows open.\\n\\n',\n",
    "    'Why did the bicycle fall over? Because it was two-tired.\\n\\n',\n",
    "    'Why did the scarecrow win an award? Because he was outstanding in his field!\\n\\n',\n",
    "    'Why was the belt sent to jail? For holding up the pants.\\n\\n',\n",
    "    \"Why couldn't the skeleton go to the party? He had no body to dance with.\\n\\n\",\n",
    "    'Why did the belt go to jail? For holding up the pants!\\n\\n',\n",
    "    'Why did the cookie go to the doctor? Because it was feeling crumbly.\\n\\n',\n",
    "\n",
    "\n",
    "\n",
    " ]\n",
    "assert(all([is_in(elem) for elem in jokes]), 'something wrong') \n",
    "\n",
    "add_ons = [\n",
    "    \"Sure, here's one:\\n\"\n",
    "]\n",
    "\n",
    "print(len(joke_list), len(joke_list_p))\n",
    "def is_in(text, j_list=jokes):\n",
    "    seen = False\n",
    "    for joke in j_list:\n",
    "        if joke in text:\n",
    "            seen = True\n",
    "    return seen\n",
    "\n",
    "joke_list_p = [j for j in joke_list if not is_in(j)]\n",
    "\n",
    "jokes.sort()\n",
    "\n",
    "joke_list_p[1:20]\n",
    "\n",
    "#jokes\n",
    "#[is_in(elem) for elem in jokes]\n",
    "print(len(jokes), len(set(jokes)))"
   ]
  },
  {
   "cell_type": "code",
   "execution_count": 54,
   "metadata": {},
   "outputs": [
    {
     "data": {
      "text/plain": [
       "True"
      ]
     },
     "execution_count": 54,
     "metadata": {},
     "output_type": "execute_result"
    }
   ],
   "source": [
    "all([is_in(elem) for elem in jokes])\n",
    "\n",
    "'Why did the scarecrow win an award? Because he was outstanding in his field!\\n\\n' in 'Why did the scarecrow win an award? Because he was outstanding in his field!\\n\\n'"
   ]
  },
  {
   "cell_type": "code",
   "execution_count": 40,
   "metadata": {},
   "outputs": [
    {
     "name": "stdout",
     "output_type": "stream",
     "text": [
      ".\n",
      "\n"
     ]
    }
   ],
   "source": [
    "# check if every element ends with \"\\n\\n\"\n",
    "ends = [x[len(x)-2:] for x in joke_list]\n",
    "ends\n",
    "#assert(all([x=='\\n\\n' for x in [x[len(x)-2:] for x in joke_list]]))\n",
    "for elem in ends:\n",
    "    if elem != '\\n\\n': \n",
    "        print(elem)"
   ]
  },
  {
   "cell_type": "code",
   "execution_count": null,
   "metadata": {},
   "outputs": [],
   "source": [
    "\"\"\" Cleaning rules \n",
    "- drop \\n\\n in the end\n",
    "- replace . by ! \n",
    "\n",
    "\"\"\"\n",
    "\n",
    "\n",
    "o = 'Why was the computer cold?\\nIt left its Windows open.\\n\\n'\n",
    "o.replace(\"\\n\\n\", \" \")"
   ]
  },
  {
   "cell_type": "code",
   "execution_count": 5,
   "metadata": {},
   "outputs": [
    {
     "name": "stdout",
     "output_type": "stream",
     "text": [
      "17\n"
     ]
    }
   ],
   "source": [
    "joke_outputs = [\n",
    "    \"Why was the math book sad? Because it had too many problems.\",\n",
    "    \"Why don't scientists trust atoms? Because they make up everything.\",\n",
    "    \"Why was the computer cold? Because it left its Windows open.\",\n",
    "    \"Why did the tomato turn red? Because it saw the salad dressing!\",\n",
    "    \"Why don't oysters give to charity? Because they're shellfish.\",\n",
    "    \"Why don't eggs tell jokes? Because they'd crack each other up.\",\n",
    "    \"Why don't skeletons fight each other? They don't have the guts.\",\n",
    "    \"Why did the cookie go to the doctor? Because it was feeling crumbly.\",\n",
    "    \"Why was the belt sent to jail? Because it was holding up a pair of pants.\",\n",
    "    \"Why did the chicken cross the playground? To get to the other slide.\",\n",
    "    \"What do you call a bear with no teeth? A gummy bear.\",\n",
    "    \"How does a penguin build its house? Igloos it together.\",\n",
    "    \"Why did the banana go to the doctor? Because it wasn't peeling well!\",\n",
    "    \"Why did the coffee file a police report? It got mugged!\",\n",
    "    \"Why couldn't the bicycle stand up by itself? Because it was two-tired!\",\n",
    "    \"Two guys stole a calendar. They got six months each.\",\n",
    "    \"Why was six afraid of seven? Because seven eight nine!\"\n",
    "]\n",
    "\n",
    "print(len(joke_outputs))"
   ]
  },
  {
   "cell_type": "code",
   "execution_count": 8,
   "metadata": {},
   "outputs": [
    {
     "data": {
      "text/plain": [
       "['How does a penguin build its house? Igloos it together.',\n",
       " 'Two guys stole a calendar. They got six months each.',\n",
       " 'What do you call a bear with no teeth? A gummy bear.',\n",
       " \"Why couldn't the bicycle stand up by itself? Because it was two-tired!\",\n",
       " \"Why did the banana go to the doctor? Because it wasn't peeling well!\",\n",
       " 'Why did the chicken cross the playground? To get to the other slide.',\n",
       " 'Why did the coffee file a police report? It got mugged!',\n",
       " 'Why did the cookie go to the doctor? Because it was feeling crumbly.',\n",
       " 'Why did the tomato turn red? Because it saw the salad dressing!',\n",
       " \"Why don't eggs tell jokes? Because they'd crack each other up.\",\n",
       " \"Why don't oysters give to charity? Because they're shellfish.\",\n",
       " \"Why don't scientists trust atoms? Because they make up everything.\",\n",
       " \"Why don't skeletons fight each other? They don't have the guts.\",\n",
       " 'Why was six afraid of seven? Because seven eight nine!',\n",
       " 'Why was the belt sent to jail? Because it was holding up a pair of pants.',\n",
       " 'Why was the computer cold? Because it left its Windows open.',\n",
       " 'Why was the math book sad? Because it had too many problems.']"
      ]
     },
     "execution_count": 8,
     "metadata": {},
     "output_type": "execute_result"
    }
   ],
   "source": [
    "joke_outputs.sort()\n",
    "joke_outputs"
   ]
  },
  {
   "cell_type": "code",
   "execution_count": null,
   "metadata": {},
   "outputs": [],
   "source": []
  }
 ],
 "metadata": {
  "kernelspec": {
   "display_name": "chatgpt",
   "language": "python",
   "name": "chatgpt"
  },
  "language_info": {
   "codemirror_mode": {
    "name": "ipython",
    "version": 3
   },
   "file_extension": ".py",
   "mimetype": "text/x-python",
   "name": "python",
   "nbconvert_exporter": "python",
   "pygments_lexer": "ipython3",
   "version": "3.10.8"
  },
  "orig_nbformat": 4,
  "vscode": {
   "interpreter": {
    "hash": "a9ce7a7d6bc95cd6579c3553ae0cb028b0ebb95fae029ca35df9969648aa3bd1"
   }
  }
 },
 "nbformat": 4,
 "nbformat_minor": 2
}
