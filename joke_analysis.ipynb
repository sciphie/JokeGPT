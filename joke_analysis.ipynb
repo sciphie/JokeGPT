{
 "cells": [
  {
   "cell_type": "code",
   "execution_count": null,
   "metadata": {},
   "outputs": [],
   "source": []
  }
 ],
 "metadata": {
  "kernelspec": {
   "display_name": "general",
   "language": "python",
   "name": "python3"
  },
  "language_info": {
   "name": "python",
   "version": "3.9.5 (default, May 18 2021, 14:42:02) [MSC v.1916 64 bit (AMD64)]"
  },
  "orig_nbformat": 4,
  "vscode": {
   "interpreter": {
    "hash": "06f5fdce2cb67809d7359a004de720f8781e67f0443262bf76f6eb6b7801fae2"
   }
  }
 },
 "nbformat": 4,
 "nbformat_minor": 2
}
